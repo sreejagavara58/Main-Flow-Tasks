{
  "nbformat": 4,
  "nbformat_minor": 0,
  "metadata": {
    "colab": {
      "provenance": []
    },
    "kernelspec": {
      "name": "python3",
      "display_name": "Python 3"
    },
    "language_info": {
      "name": "python"
    }
  },
  "cells": [
    {
      "cell_type": "code",
      "execution_count": 3,
      "metadata": {
        "colab": {
          "base_uri": "https://localhost:8080/"
        },
        "id": "Pp3yPVin55FX",
        "outputId": "e83de320-6e0b-40a1-8050-44c938491a3f"
      },
      "outputs": [
        {
          "output_type": "stream",
          "name": "stdout",
          "text": [
            "Updated list :  [10, 'sreeja', 'satya', 40, 50, 60]\n"
          ]
        }
      ],
      "source": [
        "#creating a list\n",
        "list1 = [10,20,30,40,50]\n",
        "\n",
        "#adding an element to the list\n",
        "list1.append(60)\n",
        "\n",
        "#removing an element from the list\n",
        "list1.remove(30)\n",
        "\n",
        "#modifying the list\n",
        "list1[1] = \"sreeja\"\n",
        "\n",
        "#inserting an element from the list\n",
        "list1.insert(2,\"satya\")\n",
        "\n",
        "#printing the list\n",
        "print(\"Updated list : \",list1)"
      ]
    },
    {
      "cell_type": "code",
      "source": [
        "#creating a dictionary\n",
        "dict1 = {\"name\":\"sreeja\",\"age\":20,\"branch\":\"CSE\"}\n",
        "\n",
        "#adding a key-value pair to the dictionary\n",
        "dict1[\"roll_no\"] = 10\n",
        "\n",
        "#removing a key-value pair from the dictionary\n",
        "del dict1[\"age\"]\n",
        "\n",
        "#modifying a value in the dictionary\n",
        "dict1[\"name\"] = \"satya\"\n",
        "\n",
        "#printing the dictionary\n",
        "print(\"Updated dictionary : \",dict1)"
      ],
      "metadata": {
        "colab": {
          "base_uri": "https://localhost:8080/"
        },
        "id": "x0k-2vvx_9HK",
        "outputId": "d29df9b1-bc65-4468-f784-650300db4022"
      },
      "execution_count": 6,
      "outputs": [
        {
          "output_type": "stream",
          "name": "stdout",
          "text": [
            "Updated dictionary :  {'name': 'satya', 'branch': 'CSE', 'roll_no': 10}\n"
          ]
        }
      ]
    },
    {
      "cell_type": "code",
      "source": [
        "#original tuple\n",
        "tuple1 = (10,20,30,40,50)\n",
        "\n",
        "#adding a new element to the tuple\n",
        "new_element = 60\n",
        "tuple2 = tuple1 + (new_element,)\n",
        "\n",
        "#removing an element from the tuple\n",
        "tuple2 = tuple1[1:]\n",
        "\n",
        "#modifying an element in the tuple\n",
        "modified_element = 80\n",
        "tuple2 = tuple1[:1] + (modified_element,) + tuple1[2:]\n",
        "\n",
        "#printing the tuple\n",
        "print(\"Updated tuple : \",tuple2)"
      ],
      "metadata": {
        "colab": {
          "base_uri": "https://localhost:8080/"
        },
        "id": "jdKPX7Q3B9R2",
        "outputId": "1ac419bc-e634-44d9-fd78-0eb75fbb175d"
      },
      "execution_count": 16,
      "outputs": [
        {
          "output_type": "stream",
          "name": "stdout",
          "text": [
            "Updated tuple :  (10, 80, 30, 40, 50)\n"
          ]
        }
      ]
    }
  ]
}